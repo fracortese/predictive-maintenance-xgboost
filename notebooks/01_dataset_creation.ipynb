{
  "nbformat": 4,
  "nbformat_minor": 0,
  "metadata": {
    "colab": {
      "provenance": []
    },
    "kernelspec": {
      "name": "python3",
      "display_name": "Python 3"
    },
    "language_info": {
      "name": "python"
    }
  },
  "cells": [
    {
      "cell_type": "code",
      "execution_count": null,
      "metadata": {
        "colab": {
          "base_uri": "https://localhost:8080/"
        },
        "id": "Vy-v03xW1pGv",
        "outputId": "f6dd4804-d208-4830-9aa1-b1c2df54a535"
      },
      "outputs": [
        {
          "output_type": "stream",
          "name": "stdout",
          "text": [
            "  device_id device_type inspection_date  usage_hours  avg_temperature  \\\n",
            "0     D0001   Retractor      2024-05-21          910            38.75   \n",
            "1     D0002       Drill      2024-06-12         3822            48.51   \n",
            "2     D0003       Drill      2023-09-22         3142            49.93   \n",
            "3     D0004   Retractor      2024-09-17          516            36.81   \n",
            "4     D0005         Saw      2023-10-19         4476            58.04   \n",
            "\n",
            "   vibration_level  error_logs_count  pressure_variation  last_maintenance  \\\n",
            "0            0.907                 0                1.43               136   \n",
            "1            0.284                 3                0.87               188   \n",
            "2            0.984                 1                1.23                 1   \n",
            "3            0.149                 2                0.43               105   \n",
            "4            0.210                 0                1.20               363   \n",
            "\n",
            "   failure  \n",
            "0        0  \n",
            "1        0  \n",
            "2        0  \n",
            "3        0  \n",
            "4        0  \n"
          ]
        }
      ],
      "source": [
        "import numpy as np\n",
        "import pandas as pd\n",
        "import random\n",
        "from datetime import datetime, timedelta\n",
        "\n",
        "# Set seed\n",
        "np.random.seed(42)\n",
        "random.seed(42)\n",
        "\n",
        "# Number of devices\n",
        "n = 1000\n",
        "\n",
        "# Unique device IDs\n",
        "device_ids = [f\"D{str(i).zfill(4)}\" for i in range(1, n+1)]\n",
        "\n",
        "# Feature simulation\n",
        "usage_hours = np.random.randint(50, 5000, size=n)\n",
        "avg_temperature = np.round(np.random.normal(50, 10, n), 2)\n",
        "vibration_level = np.round(np.random.uniform(0.01, 1.0, n), 3)\n",
        "error_logs_count = np.random.poisson(2, n)\n",
        "pressure_variation = np.round(np.random.normal(1.0, 0.3, n), 2)\n",
        "last_maintenance = np.random.randint(0, 365, size=n)\n",
        "\n",
        "# Simulated inspection dates (last 2 years)\n",
        "start_date = datetime(2023, 1, 1)\n",
        "inspection_dates = [start_date + timedelta(days=int(x)) for x in np.random.randint(0, 730, n)]\n",
        "\n",
        "# Simulated device types\n",
        "device_types = [random.choice(['Drill', 'Saw', 'Retractor']) for _ in range(n)]\n",
        "\n",
        "# Risk determination (failure = 1)\n",
        "failure = []\n",
        "for i in range(n):\n",
        "    risk_score = 0\n",
        "    if usage_hours[i] > 3000:\n",
        "        risk_score += 1\n",
        "    if avg_temperature[i] > 65:\n",
        "        risk_score += 1\n",
        "    if vibration_level[i] > 0.7:\n",
        "        risk_score += 1\n",
        "    if error_logs_count[i] > 5:\n",
        "        risk_score += 1\n",
        "    if pressure_variation[i] > 1.5:\n",
        "        risk_score += 1\n",
        "    if last_maintenance[i] > 180:\n",
        "        risk_score += 1\n",
        "    failure.append(1 if risk_score >= 3 else 0)\n",
        "\n",
        "# Raw DataFrame\n",
        "df_raw = pd.DataFrame({\n",
        "    \"device_id\": device_ids,\n",
        "    \"device_type\": device_types,\n",
        "    \"inspection_date\": inspection_dates,\n",
        "    \"usage_hours\": usage_hours,\n",
        "    \"avg_temperature\": avg_temperature,\n",
        "    \"vibration_level\": vibration_level,\n",
        "    \"error_logs_count\": error_logs_count,\n",
        "    \"pressure_variation\": pressure_variation,\n",
        "    \"last_maintenance\": last_maintenance,\n",
        "    \"failure\": failure\n",
        "})\n",
        "\n",
        "# Save raw version\n",
        "df_raw.to_csv(\"predictive_maintenance_data_raw.csv\", index=False)\n",
        "\n",
        "# Preview\n",
        "print(df_raw.head())"
      ]
    }
  ]
}